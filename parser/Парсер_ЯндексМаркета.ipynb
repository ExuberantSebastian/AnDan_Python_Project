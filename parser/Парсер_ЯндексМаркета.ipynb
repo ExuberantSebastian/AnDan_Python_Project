{
  "nbformat": 4,
  "nbformat_minor": 0,
  "metadata": {
    "colab": {
      "provenance": []
    },
    "kernelspec": {
      "name": "python3",
      "display_name": "Python 3"
    },
    "language_info": {
      "name": "python"
    }
  },
  "cells": [
    {
      "cell_type": "markdown",
      "source": [
        "В данном разделе представлен наш парсер, а также небольшая (сильно сокращённая) история его создания\n",
        "\n",
        "\n",
        "\n",
        "Это ссылки на наши источники: <br>\n",
        "https://youtu.be/fQe5HQV_BOc <br>\n",
        "https://youtu.be/12oZwDgt2J4 <br>\n",
        "https://github.com/hse-econ-data-science/dap_2022-23/blob/main/sem09_parsers/sem05_parsing_215.ipynb <br>\n",
        "https://habr.com/ru/companies/ods/articles/346632/ это ссылка на статью Фила и его друга про парсинг <br>\n",
        "https://github.com/hse-econ-data-science/dap_2022-23/tree/main/sem09_parsers <br>\n",
        "\n",
        "https://github.com/pythontoday/selenium4_vk/blob/master/main.py  Во многом при написании парсера мы ориентировались на этот код<br>\n",
        "\n",
        "https://github.com/pythontoday/selenium_python/tree/master/chromedriver <br>\n",
        "\n",
        "https://habr.com/ru/articles/250975/ <br>\n",
        "\n",
        "https://chromedriver.storage.googleapis.com/index.html это ссылка на драйверы для силениума "
      ],
      "metadata": {
        "id": "ipQTLMoogB2J"
      }
    },
    {
      "cell_type": "markdown",
      "source": [
        "<center>\n",
        "\n",
        "#Этап 0\n",
        "\n",
        "</center>"
      ],
      "metadata": {
        "id": "Hkl2knugZFmH"
      }
    },
    {
      "cell_type": "code",
      "source": [
        "!pip install selenium"
      ],
      "metadata": {
        "colab": {
          "base_uri": "https://localhost:8080/"
        },
        "id": "BfPvNCOyDyIM",
        "outputId": "abdbf9bc-23b0-457e-ecfe-6077e2f73bf6"
      },
      "execution_count": null,
      "outputs": [
        {
          "output_type": "stream",
          "name": "stdout",
          "text": [
            "Looking in indexes: https://pypi.org/simple, https://us-python.pkg.dev/colab-wheels/public/simple/\n",
            "Collecting selenium\n",
            "  Downloading selenium-4.9.0-py3-none-any.whl (6.5 MB)\n",
            "\u001b[2K     \u001b[90m━━━━━━━━━━━━━━━━━━━━━━━━━━━━━━━━━━━━━━━━\u001b[0m \u001b[32m6.5/6.5 MB\u001b[0m \u001b[31m58.2 MB/s\u001b[0m eta \u001b[36m0:00:00\u001b[0m\n",
            "\u001b[?25hCollecting trio~=0.17\n",
            "  Downloading trio-0.22.0-py3-none-any.whl (384 kB)\n",
            "\u001b[2K     \u001b[90m━━━━━━━━━━━━━━━━━━━━━━━━━━━━━━━━━━━━━━\u001b[0m \u001b[32m384.9/384.9 kB\u001b[0m \u001b[31m33.0 MB/s\u001b[0m eta \u001b[36m0:00:00\u001b[0m\n",
            "\u001b[?25hCollecting trio-websocket~=0.9\n",
            "  Downloading trio_websocket-0.10.2-py3-none-any.whl (17 kB)\n",
            "Requirement already satisfied: certifi>=2021.10.8 in /usr/local/lib/python3.9/dist-packages (from selenium) (2022.12.7)\n",
            "Requirement already satisfied: urllib3[socks]~=1.26 in /usr/local/lib/python3.9/dist-packages (from selenium) (1.26.15)\n",
            "Requirement already satisfied: sortedcontainers in /usr/local/lib/python3.9/dist-packages (from trio~=0.17->selenium) (2.4.0)\n",
            "Collecting async-generator>=1.9\n",
            "  Downloading async_generator-1.10-py3-none-any.whl (18 kB)\n",
            "Collecting outcome\n",
            "  Downloading outcome-1.2.0-py2.py3-none-any.whl (9.7 kB)\n",
            "Requirement already satisfied: sniffio in /usr/local/lib/python3.9/dist-packages (from trio~=0.17->selenium) (1.3.0)\n",
            "Requirement already satisfied: attrs>=19.2.0 in /usr/local/lib/python3.9/dist-packages (from trio~=0.17->selenium) (23.1.0)\n",
            "Requirement already satisfied: idna in /usr/local/lib/python3.9/dist-packages (from trio~=0.17->selenium) (3.4)\n",
            "Requirement already satisfied: exceptiongroup>=1.0.0rc9 in /usr/local/lib/python3.9/dist-packages (from trio~=0.17->selenium) (1.1.1)\n",
            "Collecting wsproto>=0.14\n",
            "  Downloading wsproto-1.2.0-py3-none-any.whl (24 kB)\n",
            "Requirement already satisfied: PySocks!=1.5.7,<2.0,>=1.5.6 in /usr/local/lib/python3.9/dist-packages (from urllib3[socks]~=1.26->selenium) (1.7.1)\n",
            "Collecting h11<1,>=0.9.0\n",
            "  Downloading h11-0.14.0-py3-none-any.whl (58 kB)\n",
            "\u001b[2K     \u001b[90m━━━━━━━━━━━━━━━━━━━━━━━━━━━━━━━━━━━━━━━━\u001b[0m \u001b[32m58.3/58.3 kB\u001b[0m \u001b[31m6.5 MB/s\u001b[0m eta \u001b[36m0:00:00\u001b[0m\n",
            "\u001b[?25hInstalling collected packages: outcome, h11, async-generator, wsproto, trio, trio-websocket, selenium\n",
            "Successfully installed async-generator-1.10 h11-0.14.0 outcome-1.2.0 selenium-4.9.0 trio-0.22.0 trio-websocket-0.10.2 wsproto-1.2.0\n"
          ]
        }
      ]
    },
    {
      "cell_type": "markdown",
      "source": [
        "https://github.com/pythontoday/selenium_python/tree/master/chromedriver\n",
        "\n",
        "Ещё один забавный гайд, на который был взят ориентир"
      ],
      "metadata": {
        "id": "6VDW1iYJyYUH"
      }
    },
    {
      "cell_type": "code",
      "source": [
        "!pip3 install fake_useragent"
      ],
      "metadata": {
        "colab": {
          "base_uri": "https://localhost:8080/"
        },
        "id": "7mc6FzN8afF7",
        "outputId": "038991e5-7447-44c9-c025-1dde3bb6f534"
      },
      "execution_count": null,
      "outputs": [
        {
          "output_type": "stream",
          "name": "stdout",
          "text": [
            "Looking in indexes: https://pypi.org/simple, https://us-python.pkg.dev/colab-wheels/public/simple/\n",
            "Collecting fake_useragent\n",
            "  Downloading fake_useragent-1.1.3-py3-none-any.whl (50 kB)\n",
            "\u001b[2K     \u001b[90m━━━━━━━━━━━━━━━━━━━━━━━━━━━━━━━━━━━━━━━━\u001b[0m \u001b[32m50.5/50.5 kB\u001b[0m \u001b[31m4.4 MB/s\u001b[0m eta \u001b[36m0:00:00\u001b[0m\n",
            "\u001b[?25hRequirement already satisfied: importlib-resources>=5.0 in /usr/local/lib/python3.9/dist-packages (from fake_useragent) (5.12.0)\n",
            "Requirement already satisfied: zipp>=3.1.0 in /usr/local/lib/python3.9/dist-packages (from importlib-resources>=5.0->fake_useragent) (3.15.0)\n",
            "Installing collected packages: fake_useragent\n",
            "Successfully installed fake_useragent-1.1.3\n"
          ]
        }
      ]
    },
    {
      "cell_type": "code",
      "source": [
        "!pip install requests"
      ],
      "metadata": {
        "colab": {
          "base_uri": "https://localhost:8080/"
        },
        "id": "5R-64l5InRb6",
        "outputId": "d1afaeaa-3d78-4f0d-d174-61b6af7d5142"
      },
      "execution_count": null,
      "outputs": [
        {
          "output_type": "stream",
          "name": "stdout",
          "text": [
            "Looking in indexes: https://pypi.org/simple, https://us-python.pkg.dev/colab-wheels/public/simple/\n",
            "Requirement already satisfied: requests in /usr/local/lib/python3.9/dist-packages (2.27.1)\n",
            "Requirement already satisfied: idna<4,>=2.5 in /usr/local/lib/python3.9/dist-packages (from requests) (3.4)\n",
            "Requirement already satisfied: urllib3<1.27,>=1.21.1 in /usr/local/lib/python3.9/dist-packages (from requests) (1.26.15)\n",
            "Requirement already satisfied: certifi>=2017.4.17 in /usr/local/lib/python3.9/dist-packages (from requests) (2022.12.7)\n",
            "Requirement already satisfied: charset-normalizer~=2.0.0 in /usr/local/lib/python3.9/dist-packages (from requests) (2.0.12)\n"
          ]
        }
      ]
    },
    {
      "cell_type": "code",
      "execution_count": null,
      "metadata": {
        "id": "O6x-EwBKfu2H"
      },
      "outputs": [],
      "source": [
        "#Необходимые библиотеки \n",
        "import requests     \n",
        "import numpy as np  \n",
        "import pandas as pd  \n",
        "import time \n",
        "from fake_useragent import UserAgent\n",
        "from bs4 import BeautifulSoup"
      ]
    },
    {
      "cell_type": "code",
      "source": [
        "main_link = 'https://market.yandex.ru/catalog--videokarty/55314/list?hid=91031&allowCollapsing=1&local-offers-first=0'\n",
        "rsp = requests.get(main_link, headers={'User-Agent': UserAgent().chrome})\n",
        "rsp.status_code\n"
      ],
      "metadata": {
        "colab": {
          "base_uri": "https://localhost:8080/"
        },
        "id": "NFnH3mxuZoqj",
        "outputId": "91590556-54e3-4cbc-fca1-d4448716d64e"
      },
      "execution_count": null,
      "outputs": [
        {
          "output_type": "execute_result",
          "data": {
            "text/plain": [
              "200"
            ]
          },
          "metadata": {},
          "execution_count": 7
        }
      ]
    },
    {
      "cell_type": "code",
      "source": [
        "Raw = rsp.text\n",
        "Raw"
      ],
      "metadata": {
        "colab": {
          "base_uri": "https://localhost:8080/",
          "height": 123
        },
        "id": "7xf4k6GMEyCW",
        "outputId": "8cb3794e-4954-41ad-c10f-a26c67cd0234"
      },
      "execution_count": null,
      "outputs": [
        {
          "output_type": "execute_result",
          "data": {
            "text/plain": [
              "'<!doctype html><html prefix=\"og: http://ogp.me/ns#\"><meta http-equiv=\"X-UA-Compatible\" content=\"IE=edge\"><meta charset=\"utf-8\"><meta name=\"viewport\" content=\"width=device-width,initial-scale=1\"><title data-react-helmet=\"true\">Ð\\x9eÐ¹!</title><meta data-react-helmet=\"true\" property=\"og:title\" content=\"Ð¯Ð½Ð´ÐµÐºÑ\\x81\"><meta data-react-helmet=\"true\" property=\"og:description\" content=\"Ð\\x9dÐ°Ð¹Ð´Ñ\\x91Ñ\\x82Ñ\\x81Ñ\\x8f Ð²Ñ\\x81Ñ\\x91\"><meta data-react-helmet=\"true\" property=\"og:image\" content=\"https://yastatic.net/s3/home-static/_/37/37a02b5dc7a51abac55d8a5b6c865f0e.png\"><link rel=\"stylesheet\" href=\"/captcha_smart.8280b3734e19723bf0df.min.css?k=1679994037529\"><style>@media only screen and (min-width:651px){body{background-image:url(\\'https://captcha-backgrounds.s3.yandex.net/static/default-background.jpg\\')}}.LogoLink{background-image:url(\\'data:image/svg+xml;base64,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\\')}</style><div id=\"root\"><div class=\"Theme Theme_color_yandex-default Theme_root_default\"><div class=\"Container\"><div class=\"Spacer\" style=\"padding-bottom:40px\"><a href=\"https://www.ya.ru\" title=\"Yandex\" class=\"Link Link_view_default LogoLink\"></a></div><form method=\"POST\" action=\"/checkcaptcha?key=b66f049c-72a6bee-80b17a7d-5f1ac3b4_2/1682520943/fe03a70017d8b6e6a8b51acd2a364431_ae599dfa7d44191af505535e44908aa8&mt=4E666D11D0E065AC4DD9D9ABC8A5B8E34E7FD5C293C23C5903B1CF164CB1E1FC9E63&retpath=aHR0cHM6Ly9tYXJrZXQueWFuZGV4LnJ1L2NhdGFsb2ctLXZpZGVva2FydHkvNTUzMTQvbGlzdD9oaWQ9OTEwMzEmYWxsb3dDb2xsYXBzaW5nPTEmbG9jYWwtb2ZmZXJzLWZpcnN0PTA%2C_51da94fa06fa461e35ce56e8c1e34ab3&u=19c1c124-a1546eb8-28f18cd7-55285282&s=41c5184e10a6b841ab651332d9322da3\" id=\"checkbox-captcha-form\"><div class=\"Spacer\" style=\"padding-bottom:16px\"><span class=\"Text Text_weight_medium Text_typography_headline-s\">Ð\\x9fÐ¾Ð´Ñ\\x82Ð²ÐµÑ\\x80Ð´Ð¸Ñ\\x82Ðµ, Ñ\\x87Ñ\\x82Ð¾ Ð·Ð°Ð¿Ñ\\x80Ð¾Ñ\\x81Ñ\\x8b Ð¾Ñ\\x82Ð¿Ñ\\x80Ð°Ð²Ð»Ñ\\x8fÐ»Ð¸ Ð²Ñ\\x8b, Ð° Ð½Ðµ Ñ\\x80Ð¾Ð±Ð¾Ñ\\x82</span></div><span class=\"Text Text_weight_regular Text_typography_body-long-m\">Ð\\x9dÐ°Ð¼ Ð¾Ñ\\x87ÐµÐ½Ñ\\x8c Ð¶Ð°Ð»Ñ\\x8c, Ð½Ð¾ Ð·Ð°Ð¿Ñ\\x80Ð¾Ñ\\x81Ñ\\x8b Ñ\\x81 Ð²Ð°Ñ\\x88ÐµÐ³Ð¾ Ñ\\x83Ñ\\x81Ñ\\x82Ñ\\x80Ð¾Ð¹Ñ\\x81Ñ\\x82Ð²Ð° Ð¿Ð¾Ñ\\x85Ð¾Ð¶Ð¸ Ð½Ð° Ð°Ð²Ñ\\x82Ð¾Ð¼Ð°Ñ\\x82Ð¸Ñ\\x87ÐµÑ\\x81ÐºÐ¸Ðµ.Â\\xa0<a href=\"https://yandex.ru/support/smart-captcha?unique_key=19c1c124-a1546eb8-28f18cd7-55285282\" class=\"Link Link_view_default\">Ð\\x9fÐ¾Ñ\\x87ÐµÐ¼Ñ\\x83 Ñ\\x8dÑ\\x82Ð¾ Ð¼Ð¾Ð³Ð»Ð¾ Ð¿Ñ\\x80Ð¾Ð¸Ð·Ð¾Ð¹Ñ\\x82Ð¸?</a></span><div class=\"Spacer Spacer_auto-gap_bottom\" style=\"padding-top:40px;padding-bottom:40px\"><div class=\"CheckboxCaptcha\" data-testid=\"checkbox-captcha\"><div class=\"CheckboxCaptcha-Inner\"><div class=\"CheckboxCaptcha-Anchor\"><input type=\"submit\" class=\"CheckboxCaptcha-Button\" aria-checked=\"false\" aria-labelledby=\"smartcaptcha-status\" role=\"checkbox\"><div class=\"CheckboxCaptcha-Checkbox\" data-checked=\"false\"><svg class=\"SvgIcon\" width=\"24\" height=\"24\" viewBox=\"0 0 24 25\" fill=\"none\"><path d=\"M4 12.5L9.5 18.5L20 6.5\" stroke=\"#000\" stroke-width=\"3\" stroke-linecap=\"round\" stroke-linejoin=\"round\"></path></svg></div></div><div class=\"CheckboxCaptcha-Label\"><span class=\"Text Text_weight_regular Text_typography_control-xxl CheckboxCaptcha-LabelText\">Ð¯ Ð½Ðµ Ñ\\x80Ð¾Ð±Ð¾Ñ\\x82</span><span class=\"Text Text_color_control-secondary Text_weight_regular Text_typography_control-l CheckboxCaptcha-SecondaryText\">Ð\\x9dÐ°Ð¶Ð¼Ð¸Ñ\\x82Ðµ, Ñ\\x87Ñ\\x82Ð¾Ð±Ñ\\x8b Ð¿Ñ\\x80Ð¾Ð´Ð¾Ð»Ð¶Ð¸Ñ\\x82Ñ\\x8c</span><span class=\"Text Text_color_ghost Text_weight_regular Text_typography_control-s CheckboxCaptcha-Links\"><a target=\"_blank\" href=\"https://cloud.yandex.ru/services/smartcaptcha\" aria-describedby=\"service-link-description\" class=\"Link Link_view_captcha\">Yandex SmartCaptcha</a><span class=\"Links-Dot\">Â\\xa0â\\x80¢Â\\xa0</span><a target=\"_blank\" href=\"https://yandex.ru/legal/smartcaptcha_notice/\" aria-describedby=\"connect-link-description\" class=\"Link Link_view_captcha\">Ð\\x9eÐ±Ñ\\x80Ð°Ð±Ð¾Ñ\\x82ÐºÐ° Ð´Ð°Ð½Ð½Ñ\\x8bÑ\\x85</a><div class=\"visuallyhidden\" id=\"service-link-description\">connect-link-description</div><div class=\"visuallyhidden\" id=\"privacy-link-description\">Ð¡Ð°Ð¹Ñ\\x82 Ñ\\x81 Ð¸Ð½Ñ\\x84Ð¾Ñ\\x80Ð¼Ð°Ñ\\x86Ð¸ÐµÐ¹ Ð¾Ð± Ð¾Ð±Ñ\\x80Ð°Ð±Ð¾Ñ\\x82ÐºÐµ Ð´Ð°Ð½Ð½Ñ\\x8bÑ\\x85</div></span></div><div class=\"CheckboxCaptcha-Icon\"><svg width=\"41\" height=\"20\" viewBox=\"0 0 41 20\" fill=\"none\" class=\"CloudIcon\"><path d=\"M10.251 11.0479C10.7785 12.2034 10.9542 12.6053 10.9542 13.9932V15.8333H9.07031V12.7309L5.51562 5H7.48142L10.251 11.0479ZM12.5746 5L10.2698 10.2376H12.1852L14.4963 5H12.5746Z\" fill=\"#000\"></path><path fill-rule=\"evenodd\" clip-rule=\"evenodd\" d=\"M10 18.2292C14.5448 18.2292 18.2292 14.5448 18.2292 10C18.2292 5.45516 14.5448 1.77083 10 1.77083C5.45516 1.77083 1.77083 5.45516 1.77083 10C1.77083 14.5448 5.45516 18.2292 10 18.2292ZM10 20C15.5228 20 20 15.5228 20 10C20 4.47715 15.5228 0 10 0C4.47715 0 0 4.47715 0 10C0 15.5228 4.47715 20 10 20Z\" fill=\"#000\"></path><path fill-rule=\"evenodd\" clip-rule=\"evenodd\" d=\"M39.2333 10C39.2333 14.55 35.55 18.2333 31 18.2333C29.8094 18.2333 28.9202 17.7864 28.4755 17.2443C28.0308 16.7022 27.9057 15.8152 28.0588 14.5339L30.7088 14.0082C33.13 13.5647 34.4641 12.2176 34.9417 9.80288C35.0001 9.46485 35.0669 9.12682 35.1301 8.8064C35.156 8.67525 35.1813 8.54705 35.2052 8.42301C35.2774 8.03104 35.3471 7.65855 35.411 7.31691C35.4783 6.95699 35.5392 6.63132 35.5899 6.3532C35.861 4.78329 35.6407 3.62423 35.0309 2.81788C37.5398 4.22801 39.2333 6.91477 39.2333 10ZM31 1.76667C26.45 1.76667 22.7667 5.45 22.7667 10C22.7667 13.0852 24.4602 15.772 26.9691 17.1821C26.3593 16.3758 26.139 15.2167 26.4101 13.6468C26.4684 13.3273 26.538 12.9507 26.6158 12.5305C26.67 12.2378 26.7281 11.9239 26.7889 11.5934C26.8128 11.4694 26.8381 11.3412 26.864 11.21C26.9273 10.8896 26.994 10.5516 27.0524 10.2136C27.5136 7.78235 28.8477 6.43534 31.2688 5.99181L33.9412 5.46614C34.0943 4.18484 33.9692 3.29778 33.5245 2.75569C33.0798 2.2136 32.1906 1.76667 31 1.76667ZM41 10C41 15.5167 36.5167 20 31 20C25.4833 20 21 15.5167 21 10C21 4.48333 25.4833 0 31 0C36.5167 0 41 4.48333 41 10ZM33.6241 7.30597L31.6147 7.70022C29.9018 8.02876 29.1112 8.81726 28.7818 10.5257C28.7052 10.9076 28.6385 11.2698 28.5741 11.6199C28.5554 11.7215 28.5368 11.8222 28.5183 11.922C28.4689 12.1848 28.4195 12.4476 28.3701 12.694L30.363 12.2998C32.0759 11.9712 32.883 11.1827 33.2124 9.47434C33.2848 9.11359 33.3515 8.75192 33.4182 8.39024C33.485 8.02852 33.5517 7.6668 33.6241 7.30597Z\" fill=\"#000\"></path></svg></div><div class=\"CheckboxCaptcha-Alert\"></div><div id=\"smartcaptcha-status\" class=\"CheckboxCaptcha-Status visuallyhidden\">SmartCaptcha Ð½Ñ\\x83Ð¶Ð½Ð° Ð¿Ñ\\x80Ð¾Ð²ÐµÑ\\x80ÐºÐ° Ð¿Ð¾Ð»Ñ\\x8cÐ·Ð¾Ð²Ð°Ñ\\x82ÐµÐ»Ñ\\x8f</div></div></div></div><span class=\"Text Text_color_ghost Text_weight_regular Text_typography_control-xs\">Ð\\x95Ñ\\x81Ð»Ð¸ Ñ\\x83 Ð²Ð°Ñ\\x81 Ð²Ð¾Ð·Ð½Ð¸ÐºÐ»Ð¸ Ð¿Ñ\\x80Ð¾Ð±Ð»ÐµÐ¼Ñ\\x8b, Ð¿Ð¾Ð¶Ð°Ð»Ñ\\x83Ð¹Ñ\\x81Ñ\\x82Ð°, Ð²Ð¾Ñ\\x81Ð¿Ð¾Ð»Ñ\\x8cÐ·Ñ\\x83Ð¹Ñ\\x82ÐµÑ\\x81Ñ\\x8cÂ\\xa0<a href=\"https://yandex.ru/support/smart-captcha?unique_key=19c1c124-a1546eb8-28f18cd7-55285282#help\" class=\"Link Link_view_default\">Ñ\\x84Ð¾Ñ\\x80Ð¼Ð¾Ð¹ Ð¾Ð±Ñ\\x80Ð°Ñ\\x82Ð½Ð¾Ð¹ Ñ\\x81Ð²Ñ\\x8fÐ·Ð¸</a></span><input type=\"hidden\" name=\"rdata\"><input type=\"hidden\" name=\"aesKey\"><input type=\"hidden\" name=\"signKey\"><input type=\"hidden\" name=\"pdata\"><input type=\"hidden\" name=\"tdata\"></form></div></div></div> <script>window.__SSR_DATA__={url:\"/ru/checkbox\",invalid:\"no\",formAction:\"/checkcaptcha?key=b66f049c-72a6bee-80b17a7d-5f1ac3b4_2/1682520943/fe03a70017d8b6e6a8b51acd2a364431_ae599dfa7d44191af505535e44908aa8&mt=4E666D11D0E065AC4DD9D9ABC8A5B8E34E7FD5C293C23C5903B1CF164CB1E1FC9E63&retpath=aHR0cHM6Ly9tYXJrZXQueWFuZGV4LnJ1L2NhdGFsb2ctLXZpZGVva2FydHkvNTUzMTQvbGlzdD9oaWQ9OTEwMzEmYWxsb3dDb2xsYXBzaW5nPTEmbG9jYWwtb2ZmZXJzLWZpcnN0PTA%2C_51da94fa06fa461e35ce56e8c1e34ab3&u=19c1c124-a1546eb8-28f18cd7-55285282&s=41c5184e10a6b841ab651332d9322da3\",captchaKey:\"b66f049c-72a6bee-80b17a7d-5f1ac3b4_2/1682520943/fe03a70017d8b6e6a8b51acd2a364431_ae599dfa7d44191af505535e44908aa8\",imageSrc:\"\",voiceSrc:\"\",introSrc:\"\",aesKey:\"uqbarlTij95xQnI2Rkc0klcn4ps11KG9jVJUxHM9JxA=\",aesSign:\"1_1682520943_12607875246377644041_362894859d6457d94370ca2250ab1482\",reqId:\"1682520943173754-11294138237350982958\",uniqueKey:\"19c1c124-a1546eb8-28f18cd7-55285282\",powPrefix:\"743D313638323532303934333B703D31316334363135392D36363035616538322D65336136663530302D62383233663234323B633D31353B643D41353530343833433646314336333746453432424134433843464632384638363B\",powComplexity:\"15\"}</script><script src=\"/captcha_smart_error.8280b3734e19723bf0df.min.js?k=1679994037529\" crossorigin=\"\"></script><script src=\"https://yastatic.net/react/16.8.4/react-with-dom-and-polyfills.min.js\" crossorigin=\"\"></script><script src=\"/captcha_smart.8280b3734e19723bf0df.min.js?k=1679994037529\" crossorigin=\"\"></script><script>!function(e,n,t,a,c){e.ym=e.ym||function(){(e.ym.a=e.ym.a||[]).push(arguments)},e.ym.l=+new Date,a=n.createElement(t),c=n.getElementsByTagName(t)[0],a.async=1,a.src=\"https://mc.yandex.ru/metrika/tag.js\",c.parentNode.insertBefore(a,c)}(window,document,\"script\"),ym(10630330,\"init\",{clickmap:!0,trackLinks:!0,accurateTrackBounce:!0,webvisor:!0,ut:\"noindex\",params:{req_id:\"1682520943173754-11294138237350982958\",unique_key:\"19c1c124-a1546eb8-28f18cd7-55285282\"}})</script><noscript><div><img src=\"https://mc.yandex.ru/watch/10630330?ut=noindex\" style=\"position:absolute;left:-9999px\" alt=\"\"></div></noscript><div><img src=\"https://adfstat.yandex.ru/captcha?req_id=1682520943173754-11294138237350982958&unique_key=19c1c124-a1546eb8-28f18cd7-55285282\" style=\"position:absolute;left:-9999px\" alt=\"\"></div>'"
            ],
            "application/vnd.google.colaboratory.intrinsic+json": {
              "type": "string"
            }
          },
          "metadata": {},
          "execution_count": 8
        }
      ]
    },
    {
      "cell_type": "markdown",
      "source": [
        "Вроде бы серверу понравилась наша клоунская маска, можно продолжать"
      ],
      "metadata": {
        "id": "1NI81Y75bAyL"
      }
    },
    {
      "cell_type": "code",
      "source": [
        "#SubDone = BeautifulSoup(Raw,'Raw.parser')\n",
        "SubDone = BeautifulSoup(Raw, 'html.parser')"
      ],
      "metadata": {
        "id": "yRMj-37LbGiG"
      },
      "execution_count": null,
      "outputs": []
    },
    {
      "cell_type": "code",
      "source": [
        "SubDone"
      ],
      "metadata": {
        "colab": {
          "base_uri": "https://localhost:8080/"
        },
        "id": "DJZcoMMK9tix",
        "outputId": "0dbf6b33-881f-4552-8912-df9f79d15531"
      },
      "execution_count": null,
      "outputs": [
        {
          "output_type": "execute_result",
          "data": {
            "text/plain": [
              "<!DOCTYPE html>\n",
              "<html prefix=\"og: http://ogp.me/ns#\"><meta content=\"IE=edge\" http-equiv=\"X-UA-Compatible\"/><meta charset=\"utf-8\"/><meta content=\"width=device-width,initial-scale=1\" name=\"viewport\"/><title data-react-helmet=\"true\">ÐÐ¹!</title><meta content=\"Ð¯Ð½Ð´ÐµÐºÑ\" data-react-helmet=\"true\" property=\"og:title\"/><meta content=\"ÐÐ°Ð¹Ð´ÑÑÑÑ Ð²ÑÑ\" data-react-helmet=\"true\" property=\"og:description\"/><meta content=\"https://yastatic.net/s3/home-static/_/37/37a02b5dc7a51abac55d8a5b6c865f0e.png\" data-react-helmet=\"true\" property=\"og:image\"/><link href=\"/captcha_smart.8280b3734e19723bf0df.min.css?k=1679994037529\" rel=\"stylesheet\"/><style>@media only screen and (min-width:651px){body{background-image:url('https://captcha-backgrounds.s3.yandex.net/static/default-background.jpg')}}.LogoLink{background-image:url('data:image/svg+xml;base64,PHN2ZyB3aWR0aD0iODYiIGhlaWdodD0iMzYiIHZpZXdCb3g9IjAgMCAzNzggOTEiIHhtbG5zPSJodHRwOi8vd3d3LnczLm9yZy8yMDAwL3N2ZyIgZmlsbD0ibm9uZSI+PHBhdGggZD0iTTI0OS43ODkgODQuODY4OVY3Mi40MTQ2QzI0NSA3NS42MjQ1IDIzNi45NzYgNzguNDQ5MiAyMjkuNDY5IDc4LjQ0OTJDMjE4LjIxIDc4LjQ0OTIgMjEzLjkzOSA3My4xODUgMjEzLjI5MSA2Mi4zOTk4SDI1MC40MzZWNTQuMzEwOUMyNTAuNDM2IDMxLjg0MTcgMjQwLjQ3MSAyMy4zNjc3IDIyNS4wNjkgMjMuMzY3N0MyMDYuMzAzIDIzLjM2NzcgMTk3LjM3MiAzNy42MTk1IDE5Ny4zNzIgNTcuMTM1NkMxOTcuMzcyIDc5LjYwNDcgMjA4LjUwMyA5MC41MTgzIDIyOC4xNzUgOTAuNTE4M0MyMzguMDExIDkwLjUxODMgMjQ1LjI1OSA4Ny45NTA0IDI0OS43ODkgODQuODY4OVpNMzQ2LjA4MSA5MC41MTgzQzM1My4xOTkgOTAuNTE4MyAzNTguMjQ3IDg5LjIzNDMgMzYyIDg2LjUzOFY3NC4wODM3QzM1OC4xMTcgNzYuNzggMzUzLjQ1OCA3OC40NDkyIDM0Ni45ODcgNzguNDQ5MkMzMzUuOTg2IDc4LjQ0OTIgMzMxLjQ1NiA2OS45NzUxIDMzMS40NTYgNTYuNjIyQzMzMS40NTYgNDIuNjI2OSAzMzcuMDIxIDM1LjQzNjggMzQ3LjExNiAzNS40MzY4QzM1My4wNyAzNS40MzY4IDM1OC44OTQgMzcuNDkxMSAzNjIgMzkuNDE3MVYyNi40NDkyQzM1OC43NjQgMjQuNjUxNiAzNTMuMDcgMjMuMzY3NyAzNDUuNDM0IDIzLjM2NzdDMzI1Ljc2MSAyMy4zNjc3IDMxNS41MzcgMzcuMzYyNyAzMTUuNTM3IDU3LjAwNzJDMzE1LjUzNyA3OC41Nzc2IDMyNS41MDIgOTAuNTE4MyAzNDYuMDgxIDkwLjUxODNaTTEwOC43MTcgMjQuNjUxNlY1MC4yMDIySDg4LjEzODJWMjQuNjUxNkg3Mi43MzY3Vjg5LjIzNDNIODguMTM4MlY2Mi4yNzE0SDEwOC43MTdWODkuMjM0M0gxMjQuMTE4VjI0LjY1MTZIMTA4LjcxN1pNMTkzLjYxOSA3Ny4xNjUySDE4Ni43NTlWMjQuNjUxNkgxNDEuODQ5VjMwLjE3MjZDMTQxLjg0OSA0NS45NjUyIDE0MC44MTQgNjYuMzggMTM1LjM3OCA3Ny4xNjUySDEzMC41ODlWMTA0SDE0NC44MjZWODkuMjM0M0gxNzkuMzgyVjEwNEgxOTMuNjE5Vjc3LjE2NTJaTTI5OC45NyA4OS4yMzQzSDMxNi40NDNMMjkxLjcyMyA1NC40MzkzTDMxMy40NjYgMjQuNjUxNkgyOTcuOTM1TDI3Ni4xOTIgNTQuNDM5M1YyNC42NTE2SDI2MC43OVY4OS4yMzQzSDI3Ni4xOTJWNTcuNTIwOEwyOTguOTcgODkuMjM0M1pNMjI0LjgxIDM1LjQzNjhDMjMyLjQ0NiAzNS40MzY4IDIzNC43NzYgNDEuNzI4MiAyMzQuNzc2IDQ5LjgxNzFWNTEuMTAxSDIxMy4yOTFDMjEzLjY4IDQwLjgyOTQgMjE3LjQzMyAzNS40MzY4IDIyNC44MSAzNS40MzY4Wk0xNzEuMzU4IDc3LjE2NTJIMTQ5LjYxNUMxNTMuODg2IDY3LjQwNzIgMTU1LjA1MSA0OS44MTcxIDE1NS4wNTEgMzguNjQ2N1YzNi43MjA4SDE3MS4zNThWNzcuMTY1MloiIGZpbGw9ImJsYWNrIj48L3BhdGg+CiAgICAgICAgPHBhdGggZD0iTTQ0LjEzMzcgODkuMjM0Nkg1OS43OTRWMEgzNy4wMTUzQzE0LjEwNzIgMCAyLjA3MDc5IDExLjY4NCAyLjA3MDc5IDI4Ljg4ODlDMi4wNzA3OSA0Mi42MjcyIDguNjcxNDMgNTAuNzE2IDIwLjQ0OSA1OS4wNjE3TDAgODkuMjM0NkgxNi45NTQ2TDM5LjczMzMgNTUuNDY2N0wzMS44Mzg0IDUwLjIwMjVDMjIuMjYxIDQzLjc4MjcgMTcuNjAxNyAzOC43NzUzIDE3LjYwMTcgMjcuOTkwMUMxNy42MDE3IDE4LjQ4ODkgMjQuMzMxOCAxMi4wNjkxIDM3LjE0NDggMTIuMDY5MUg0NC4xMzM3Vjg5LjIzNDZaIiBmaWxsPSIjRkMzRjFEIj48L3BhdGg+PC9zdmc+')}</style><div id=\"root\"><div class=\"Theme Theme_color_yandex-default Theme_root_default\"><div class=\"Container\"><div class=\"Spacer\" style=\"padding-bottom:40px\"><a class=\"Link Link_view_default LogoLink\" href=\"https://www.ya.ru\" title=\"Yandex\"></a></div><form action=\"/checkcaptcha?key=b66f049c-72a6bee-80b17a7d-5f1ac3b4_2/1682520943/fe03a70017d8b6e6a8b51acd2a364431_ae599dfa7d44191af505535e44908aa8&amp;mt=4E666D11D0E065AC4DD9D9ABC8A5B8E34E7FD5C293C23C5903B1CF164CB1E1FC9E63&amp;retpath=aHR0cHM6Ly9tYXJrZXQueWFuZGV4LnJ1L2NhdGFsb2ctLXZpZGVva2FydHkvNTUzMTQvbGlzdD9oaWQ9OTEwMzEmYWxsb3dDb2xsYXBzaW5nPTEmbG9jYWwtb2ZmZXJzLWZpcnN0PTA%2C_51da94fa06fa461e35ce56e8c1e34ab3&amp;u=19c1c124-a1546eb8-28f18cd7-55285282&amp;s=41c5184e10a6b841ab651332d9322da3\" id=\"checkbox-captcha-form\" method=\"POST\"><div class=\"Spacer\" style=\"padding-bottom:16px\"><span class=\"Text Text_weight_medium Text_typography_headline-s\">ÐÐ¾Ð´ÑÐ²ÐµÑÐ´Ð¸ÑÐµ, ÑÑÐ¾ Ð·Ð°Ð¿ÑÐ¾ÑÑ Ð¾ÑÐ¿ÑÐ°Ð²Ð»ÑÐ»Ð¸ Ð²Ñ, Ð° Ð½Ðµ ÑÐ¾Ð±Ð¾Ñ</span></div><span class=\"Text Text_weight_regular Text_typography_body-long-m\">ÐÐ°Ð¼ Ð¾ÑÐµÐ½Ñ Ð¶Ð°Ð»Ñ, Ð½Ð¾ Ð·Ð°Ð¿ÑÐ¾ÑÑ Ñ Ð²Ð°ÑÐµÐ³Ð¾ ÑÑÑÑÐ¾Ð¹ÑÑÐ²Ð° Ð¿Ð¾Ñ\n",
              "Ð¾Ð¶Ð¸ Ð½Ð° Ð°Ð²ÑÐ¾Ð¼Ð°ÑÐ¸ÑÐµÑÐºÐ¸Ðµ.Â <a class=\"Link Link_view_default\" href=\"https://yandex.ru/support/smart-captcha?unique_key=19c1c124-a1546eb8-28f18cd7-55285282\">ÐÐ¾ÑÐµÐ¼Ñ ÑÑÐ¾ Ð¼Ð¾Ð³Ð»Ð¾ Ð¿ÑÐ¾Ð¸Ð·Ð¾Ð¹ÑÐ¸?</a></span><div class=\"Spacer Spacer_auto-gap_bottom\" style=\"padding-top:40px;padding-bottom:40px\"><div class=\"CheckboxCaptcha\" data-testid=\"checkbox-captcha\"><div class=\"CheckboxCaptcha-Inner\"><div class=\"CheckboxCaptcha-Anchor\"><input aria-checked=\"false\" aria-labelledby=\"smartcaptcha-status\" class=\"CheckboxCaptcha-Button\" role=\"checkbox\" type=\"submit\"/><div class=\"CheckboxCaptcha-Checkbox\" data-checked=\"false\"><svg class=\"SvgIcon\" fill=\"none\" height=\"24\" viewbox=\"0 0 24 25\" width=\"24\"><path d=\"M4 12.5L9.5 18.5L20 6.5\" stroke=\"#000\" stroke-linecap=\"round\" stroke-linejoin=\"round\" stroke-width=\"3\"></path></svg></div></div><div class=\"CheckboxCaptcha-Label\"><span class=\"Text Text_weight_regular Text_typography_control-xxl CheckboxCaptcha-LabelText\">Ð¯ Ð½Ðµ ÑÐ¾Ð±Ð¾Ñ</span><span class=\"Text Text_color_control-secondary Text_weight_regular Text_typography_control-l CheckboxCaptcha-SecondaryText\">ÐÐ°Ð¶Ð¼Ð¸ÑÐµ, ÑÑÐ¾Ð±Ñ Ð¿ÑÐ¾Ð´Ð¾Ð»Ð¶Ð¸ÑÑ</span><span class=\"Text Text_color_ghost Text_weight_regular Text_typography_control-s CheckboxCaptcha-Links\"><a aria-describedby=\"service-link-description\" class=\"Link Link_view_captcha\" href=\"https://cloud.yandex.ru/services/smartcaptcha\" target=\"_blank\">Yandex SmartCaptcha</a><span class=\"Links-Dot\">Â â¢Â </span><a aria-describedby=\"connect-link-description\" class=\"Link Link_view_captcha\" href=\"https://yandex.ru/legal/smartcaptcha_notice/\" target=\"_blank\">ÐÐ±ÑÐ°Ð±Ð¾ÑÐºÐ° Ð´Ð°Ð½Ð½ÑÑ\n",
              "</a><div class=\"visuallyhidden\" id=\"service-link-description\">connect-link-description</div><div class=\"visuallyhidden\" id=\"privacy-link-description\">Ð¡Ð°Ð¹Ñ Ñ Ð¸Ð½ÑÐ¾ÑÐ¼Ð°ÑÐ¸ÐµÐ¹ Ð¾Ð± Ð¾Ð±ÑÐ°Ð±Ð¾ÑÐºÐµ Ð´Ð°Ð½Ð½ÑÑ\n",
              "</div></span></div><div class=\"CheckboxCaptcha-Icon\"><svg class=\"CloudIcon\" fill=\"none\" height=\"20\" viewbox=\"0 0 41 20\" width=\"41\"><path d=\"M10.251 11.0479C10.7785 12.2034 10.9542 12.6053 10.9542 13.9932V15.8333H9.07031V12.7309L5.51562 5H7.48142L10.251 11.0479ZM12.5746 5L10.2698 10.2376H12.1852L14.4963 5H12.5746Z\" fill=\"#000\"></path><path clip-rule=\"evenodd\" d=\"M10 18.2292C14.5448 18.2292 18.2292 14.5448 18.2292 10C18.2292 5.45516 14.5448 1.77083 10 1.77083C5.45516 1.77083 1.77083 5.45516 1.77083 10C1.77083 14.5448 5.45516 18.2292 10 18.2292ZM10 20C15.5228 20 20 15.5228 20 10C20 4.47715 15.5228 0 10 0C4.47715 0 0 4.47715 0 10C0 15.5228 4.47715 20 10 20Z\" fill=\"#000\" fill-rule=\"evenodd\"></path><path clip-rule=\"evenodd\" d=\"M39.2333 10C39.2333 14.55 35.55 18.2333 31 18.2333C29.8094 18.2333 28.9202 17.7864 28.4755 17.2443C28.0308 16.7022 27.9057 15.8152 28.0588 14.5339L30.7088 14.0082C33.13 13.5647 34.4641 12.2176 34.9417 9.80288C35.0001 9.46485 35.0669 9.12682 35.1301 8.8064C35.156 8.67525 35.1813 8.54705 35.2052 8.42301C35.2774 8.03104 35.3471 7.65855 35.411 7.31691C35.4783 6.95699 35.5392 6.63132 35.5899 6.3532C35.861 4.78329 35.6407 3.62423 35.0309 2.81788C37.5398 4.22801 39.2333 6.91477 39.2333 10ZM31 1.76667C26.45 1.76667 22.7667 5.45 22.7667 10C22.7667 13.0852 24.4602 15.772 26.9691 17.1821C26.3593 16.3758 26.139 15.2167 26.4101 13.6468C26.4684 13.3273 26.538 12.9507 26.6158 12.5305C26.67 12.2378 26.7281 11.9239 26.7889 11.5934C26.8128 11.4694 26.8381 11.3412 26.864 11.21C26.9273 10.8896 26.994 10.5516 27.0524 10.2136C27.5136 7.78235 28.8477 6.43534 31.2688 5.99181L33.9412 5.46614C34.0943 4.18484 33.9692 3.29778 33.5245 2.75569C33.0798 2.2136 32.1906 1.76667 31 1.76667ZM41 10C41 15.5167 36.5167 20 31 20C25.4833 20 21 15.5167 21 10C21 4.48333 25.4833 0 31 0C36.5167 0 41 4.48333 41 10ZM33.6241 7.30597L31.6147 7.70022C29.9018 8.02876 29.1112 8.81726 28.7818 10.5257C28.7052 10.9076 28.6385 11.2698 28.5741 11.6199C28.5554 11.7215 28.5368 11.8222 28.5183 11.922C28.4689 12.1848 28.4195 12.4476 28.3701 12.694L30.363 12.2998C32.0759 11.9712 32.883 11.1827 33.2124 9.47434C33.2848 9.11359 33.3515 8.75192 33.4182 8.39024C33.485 8.02852 33.5517 7.6668 33.6241 7.30597Z\" fill=\"#000\" fill-rule=\"evenodd\"></path></svg></div><div class=\"CheckboxCaptcha-Alert\"></div><div class=\"CheckboxCaptcha-Status visuallyhidden\" id=\"smartcaptcha-status\">SmartCaptcha Ð½ÑÐ¶Ð½Ð° Ð¿ÑÐ¾Ð²ÐµÑÐºÐ° Ð¿Ð¾Ð»ÑÐ·Ð¾Ð²Ð°ÑÐµÐ»Ñ</div></div></div></div><span class=\"Text Text_color_ghost Text_weight_regular Text_typography_control-xs\">ÐÑÐ»Ð¸ Ñ Ð²Ð°Ñ Ð²Ð¾Ð·Ð½Ð¸ÐºÐ»Ð¸ Ð¿ÑÐ¾Ð±Ð»ÐµÐ¼Ñ, Ð¿Ð¾Ð¶Ð°Ð»ÑÐ¹ÑÑÐ°, Ð²Ð¾ÑÐ¿Ð¾Ð»ÑÐ·ÑÐ¹ÑÐµÑÑÂ <a class=\"Link Link_view_default\" href=\"https://yandex.ru/support/smart-captcha?unique_key=19c1c124-a1546eb8-28f18cd7-55285282#help\">ÑÐ¾ÑÐ¼Ð¾Ð¹ Ð¾Ð±ÑÐ°ÑÐ½Ð¾Ð¹ ÑÐ²ÑÐ·Ð¸</a></span><input name=\"rdata\" type=\"hidden\"/><input name=\"aesKey\" type=\"hidden\"/><input name=\"signKey\" type=\"hidden\"/><input name=\"pdata\" type=\"hidden\"/><input name=\"tdata\" type=\"hidden\"/></form></div></div></div> <script>window.__SSR_DATA__={url:\"/ru/checkbox\",invalid:\"no\",formAction:\"/checkcaptcha?key=b66f049c-72a6bee-80b17a7d-5f1ac3b4_2/1682520943/fe03a70017d8b6e6a8b51acd2a364431_ae599dfa7d44191af505535e44908aa8&mt=4E666D11D0E065AC4DD9D9ABC8A5B8E34E7FD5C293C23C5903B1CF164CB1E1FC9E63&retpath=aHR0cHM6Ly9tYXJrZXQueWFuZGV4LnJ1L2NhdGFsb2ctLXZpZGVva2FydHkvNTUzMTQvbGlzdD9oaWQ9OTEwMzEmYWxsb3dDb2xsYXBzaW5nPTEmbG9jYWwtb2ZmZXJzLWZpcnN0PTA%2C_51da94fa06fa461e35ce56e8c1e34ab3&u=19c1c124-a1546eb8-28f18cd7-55285282&s=41c5184e10a6b841ab651332d9322da3\",captchaKey:\"b66f049c-72a6bee-80b17a7d-5f1ac3b4_2/1682520943/fe03a70017d8b6e6a8b51acd2a364431_ae599dfa7d44191af505535e44908aa8\",imageSrc:\"\",voiceSrc:\"\",introSrc:\"\",aesKey:\"uqbarlTij95xQnI2Rkc0klcn4ps11KG9jVJUxHM9JxA=\",aesSign:\"1_1682520943_12607875246377644041_362894859d6457d94370ca2250ab1482\",reqId:\"1682520943173754-11294138237350982958\",uniqueKey:\"19c1c124-a1546eb8-28f18cd7-55285282\",powPrefix:\"743D313638323532303934333B703D31316334363135392D36363035616538322D65336136663530302D62383233663234323B633D31353B643D41353530343833433646314336333746453432424134433843464632384638363B\",powComplexity:\"15\"}</script><script crossorigin=\"\" src=\"/captcha_smart_error.8280b3734e19723bf0df.min.js?k=1679994037529\"></script><script crossorigin=\"\" src=\"https://yastatic.net/react/16.8.4/react-with-dom-and-polyfills.min.js\"></script><script crossorigin=\"\" src=\"/captcha_smart.8280b3734e19723bf0df.min.js?k=1679994037529\"></script><script>!function(e,n,t,a,c){e.ym=e.ym||function(){(e.ym.a=e.ym.a||[]).push(arguments)},e.ym.l=+new Date,a=n.createElement(t),c=n.getElementsByTagName(t)[0],a.async=1,a.src=\"https://mc.yandex.ru/metrika/tag.js\",c.parentNode.insertBefore(a,c)}(window,document,\"script\"),ym(10630330,\"init\",{clickmap:!0,trackLinks:!0,accurateTrackBounce:!0,webvisor:!0,ut:\"noindex\",params:{req_id:\"1682520943173754-11294138237350982958\",unique_key:\"19c1c124-a1546eb8-28f18cd7-55285282\"}})</script><noscript><div><img alt=\"\" src=\"https://mc.yandex.ru/watch/10630330?ut=noindex\" style=\"position:absolute;left:-9999px\"/></div></noscript><div><img alt=\"\" src=\"https://adfstat.yandex.ru/captcha?req_id=1682520943173754-11294138237350982958&amp;unique_key=19c1c124-a1546eb8-28f18cd7-55285282\" style=\"position:absolute;left:-9999px\"/></div></html>"
            ]
          },
          "metadata": {},
          "execution_count": 10
        }
      ]
    },
    {
      "cell_type": "markdown",
      "source": [
        "Как мы видим, ничего не получается, поэтому придётся выбить дверь..."
      ],
      "metadata": {
        "id": "bc5Wkf7mtxJq"
      }
    },
    {
      "cell_type": "code",
      "source": [
        "from selenium import webdriver\n",
        "from tqdm.notebook import tqdm"
      ],
      "metadata": {
        "id": "_fEgSmI-Dp2U"
      },
      "execution_count": null,
      "outputs": []
    },
    {
      "cell_type": "code",
      "source": [
        "driver = webdriver.Chrome(executable_path = \"C:\\\\Users\\\\semyo\\\\Desktop\\\\Python Project\\\\ChromeDriver\\\\chromedriver.exe\")\n",
        "#r\"C:\\Users\\semyo\\Desktop\\Python Project\\ChromeDriver\""
      ],
      "metadata": {
        "colab": {
          "base_uri": "https://localhost:8080/",
          "height": 658
        },
        "id": "Zp5t4yRftwlv",
        "outputId": "88145fe0-4071-4b3b-e9bf-9992db1386cf"
      },
      "execution_count": null,
      "outputs": [
        {
          "output_type": "stream",
          "name": "stderr",
          "text": [
            "<ipython-input-14-daaa2f8db018>:1: DeprecationWarning: executable_path has been deprecated, please pass in a Service object\n",
            "  driver = webdriver.Chrome(executable_path = \"/home/ChromeDriver/chromedriver.exe\")\n"
          ]
        },
        {
          "output_type": "error",
          "ename": "WebDriverException",
          "evalue": "ignored",
          "traceback": [
            "\u001b[0;31m---------------------------------------------------------------------------\u001b[0m",
            "\u001b[0;31mWebDriverException\u001b[0m                        Traceback (most recent call last)",
            "\u001b[0;32m<ipython-input-14-daaa2f8db018>\u001b[0m in \u001b[0;36m<cell line: 1>\u001b[0;34m()\u001b[0m\n\u001b[0;32m----> 1\u001b[0;31m \u001b[0mdriver\u001b[0m \u001b[0;34m=\u001b[0m \u001b[0mwebdriver\u001b[0m\u001b[0;34m.\u001b[0m\u001b[0mChrome\u001b[0m\u001b[0;34m(\u001b[0m\u001b[0mexecutable_path\u001b[0m \u001b[0;34m=\u001b[0m \u001b[0;34m\"/home/ChromeDriver/chromedriver.exe\"\u001b[0m\u001b[0;34m)\u001b[0m\u001b[0;34m\u001b[0m\u001b[0;34m\u001b[0m\u001b[0m\n\u001b[0m\u001b[1;32m      2\u001b[0m \u001b[0;31m#C:\\Users\\semyo\\Desktop\\Python Project\\ChromeDriver\u001b[0m\u001b[0;34m\u001b[0m\u001b[0;34m\u001b[0m\u001b[0m\n",
            "\u001b[0;32m/usr/local/lib/python3.9/dist-packages/selenium/webdriver/chrome/webdriver.py\u001b[0m in \u001b[0;36m__init__\u001b[0;34m(self, executable_path, port, options, service_args, desired_capabilities, service_log_path, chrome_options, service, keep_alive)\u001b[0m\n\u001b[1;32m     82\u001b[0m         \u001b[0mservice\u001b[0m\u001b[0;34m.\u001b[0m\u001b[0mpath\u001b[0m \u001b[0;34m=\u001b[0m \u001b[0mDriverFinder\u001b[0m\u001b[0;34m.\u001b[0m\u001b[0mget_path\u001b[0m\u001b[0;34m(\u001b[0m\u001b[0mservice\u001b[0m\u001b[0;34m,\u001b[0m \u001b[0moptions\u001b[0m\u001b[0;34m)\u001b[0m\u001b[0;34m\u001b[0m\u001b[0;34m\u001b[0m\u001b[0m\n\u001b[1;32m     83\u001b[0m \u001b[0;34m\u001b[0m\u001b[0m\n\u001b[0;32m---> 84\u001b[0;31m         super().__init__(\n\u001b[0m\u001b[1;32m     85\u001b[0m             \u001b[0mDesiredCapabilities\u001b[0m\u001b[0;34m.\u001b[0m\u001b[0mCHROME\u001b[0m\u001b[0;34m[\u001b[0m\u001b[0;34m\"browserName\"\u001b[0m\u001b[0;34m]\u001b[0m\u001b[0;34m,\u001b[0m\u001b[0;34m\u001b[0m\u001b[0;34m\u001b[0m\u001b[0m\n\u001b[1;32m     86\u001b[0m             \u001b[0;34m\"goog\"\u001b[0m\u001b[0;34m,\u001b[0m\u001b[0;34m\u001b[0m\u001b[0;34m\u001b[0m\u001b[0m\n",
            "\u001b[0;32m/usr/local/lib/python3.9/dist-packages/selenium/webdriver/chromium/webdriver.py\u001b[0m in \u001b[0;36m__init__\u001b[0;34m(self, browser_name, vendor_prefix, port, options, service_args, desired_capabilities, service_log_path, service, keep_alive)\u001b[0m\n\u001b[1;32m    102\u001b[0m \u001b[0;34m\u001b[0m\u001b[0m\n\u001b[1;32m    103\u001b[0m         \u001b[0;32mtry\u001b[0m\u001b[0;34m:\u001b[0m\u001b[0;34m\u001b[0m\u001b[0;34m\u001b[0m\u001b[0m\n\u001b[0;32m--> 104\u001b[0;31m             super().__init__(\n\u001b[0m\u001b[1;32m    105\u001b[0m                 command_executor=ChromiumRemoteConnection(\n\u001b[1;32m    106\u001b[0m                     \u001b[0mremote_server_addr\u001b[0m\u001b[0;34m=\u001b[0m\u001b[0mself\u001b[0m\u001b[0;34m.\u001b[0m\u001b[0mservice\u001b[0m\u001b[0;34m.\u001b[0m\u001b[0mservice_url\u001b[0m\u001b[0;34m,\u001b[0m\u001b[0;34m\u001b[0m\u001b[0;34m\u001b[0m\u001b[0m\n",
            "\u001b[0;32m/usr/local/lib/python3.9/dist-packages/selenium/webdriver/remote/webdriver.py\u001b[0m in \u001b[0;36m__init__\u001b[0;34m(self, command_executor, desired_capabilities, browser_profile, proxy, keep_alive, file_detector, options)\u001b[0m\n\u001b[1;32m    284\u001b[0m         \u001b[0mself\u001b[0m\u001b[0;34m.\u001b[0m\u001b[0m_authenticator_id\u001b[0m \u001b[0;34m=\u001b[0m \u001b[0;32mNone\u001b[0m\u001b[0;34m\u001b[0m\u001b[0;34m\u001b[0m\u001b[0m\n\u001b[1;32m    285\u001b[0m         \u001b[0mself\u001b[0m\u001b[0;34m.\u001b[0m\u001b[0mstart_client\u001b[0m\u001b[0;34m(\u001b[0m\u001b[0;34m)\u001b[0m\u001b[0;34m\u001b[0m\u001b[0;34m\u001b[0m\u001b[0m\n\u001b[0;32m--> 286\u001b[0;31m         \u001b[0mself\u001b[0m\u001b[0;34m.\u001b[0m\u001b[0mstart_session\u001b[0m\u001b[0;34m(\u001b[0m\u001b[0mcapabilities\u001b[0m\u001b[0;34m,\u001b[0m \u001b[0mbrowser_profile\u001b[0m\u001b[0;34m)\u001b[0m\u001b[0;34m\u001b[0m\u001b[0;34m\u001b[0m\u001b[0m\n\u001b[0m\u001b[1;32m    287\u001b[0m \u001b[0;34m\u001b[0m\u001b[0m\n\u001b[1;32m    288\u001b[0m     \u001b[0;32mdef\u001b[0m \u001b[0m__repr__\u001b[0m\u001b[0;34m(\u001b[0m\u001b[0mself\u001b[0m\u001b[0;34m)\u001b[0m\u001b[0;34m:\u001b[0m\u001b[0;34m\u001b[0m\u001b[0;34m\u001b[0m\u001b[0m\n",
            "\u001b[0;32m/usr/local/lib/python3.9/dist-packages/selenium/webdriver/remote/webdriver.py\u001b[0m in \u001b[0;36mstart_session\u001b[0;34m(self, capabilities, browser_profile)\u001b[0m\n\u001b[1;32m    376\u001b[0m         \u001b[0mw3c_caps\u001b[0m \u001b[0;34m=\u001b[0m \u001b[0m_make_w3c_caps\u001b[0m\u001b[0;34m(\u001b[0m\u001b[0mcapabilities\u001b[0m\u001b[0;34m)\u001b[0m\u001b[0;34m\u001b[0m\u001b[0;34m\u001b[0m\u001b[0m\n\u001b[1;32m    377\u001b[0m         \u001b[0mparameters\u001b[0m \u001b[0;34m=\u001b[0m \u001b[0;34m{\u001b[0m\u001b[0;34m\"capabilities\"\u001b[0m\u001b[0;34m:\u001b[0m \u001b[0mw3c_caps\u001b[0m\u001b[0;34m}\u001b[0m\u001b[0;34m\u001b[0m\u001b[0;34m\u001b[0m\u001b[0m\n\u001b[0;32m--> 378\u001b[0;31m         \u001b[0mresponse\u001b[0m \u001b[0;34m=\u001b[0m \u001b[0mself\u001b[0m\u001b[0;34m.\u001b[0m\u001b[0mexecute\u001b[0m\u001b[0;34m(\u001b[0m\u001b[0mCommand\u001b[0m\u001b[0;34m.\u001b[0m\u001b[0mNEW_SESSION\u001b[0m\u001b[0;34m,\u001b[0m \u001b[0mparameters\u001b[0m\u001b[0;34m)\u001b[0m\u001b[0;34m\u001b[0m\u001b[0;34m\u001b[0m\u001b[0m\n\u001b[0m\u001b[1;32m    379\u001b[0m         \u001b[0;32mif\u001b[0m \u001b[0;34m\"sessionId\"\u001b[0m \u001b[0;32mnot\u001b[0m \u001b[0;32min\u001b[0m \u001b[0mresponse\u001b[0m\u001b[0;34m:\u001b[0m\u001b[0;34m\u001b[0m\u001b[0;34m\u001b[0m\u001b[0m\n\u001b[1;32m    380\u001b[0m             \u001b[0mresponse\u001b[0m \u001b[0;34m=\u001b[0m \u001b[0mresponse\u001b[0m\u001b[0;34m[\u001b[0m\u001b[0;34m\"value\"\u001b[0m\u001b[0;34m]\u001b[0m\u001b[0;34m\u001b[0m\u001b[0;34m\u001b[0m\u001b[0m\n",
            "\u001b[0;32m/usr/local/lib/python3.9/dist-packages/selenium/webdriver/remote/webdriver.py\u001b[0m in \u001b[0;36mexecute\u001b[0;34m(self, driver_command, params)\u001b[0m\n\u001b[1;32m    438\u001b[0m         \u001b[0mresponse\u001b[0m \u001b[0;34m=\u001b[0m \u001b[0mself\u001b[0m\u001b[0;34m.\u001b[0m\u001b[0mcommand_executor\u001b[0m\u001b[0;34m.\u001b[0m\u001b[0mexecute\u001b[0m\u001b[0;34m(\u001b[0m\u001b[0mdriver_command\u001b[0m\u001b[0;34m,\u001b[0m \u001b[0mparams\u001b[0m\u001b[0;34m)\u001b[0m\u001b[0;34m\u001b[0m\u001b[0;34m\u001b[0m\u001b[0m\n\u001b[1;32m    439\u001b[0m         \u001b[0;32mif\u001b[0m \u001b[0mresponse\u001b[0m\u001b[0;34m:\u001b[0m\u001b[0;34m\u001b[0m\u001b[0;34m\u001b[0m\u001b[0m\n\u001b[0;32m--> 440\u001b[0;31m             \u001b[0mself\u001b[0m\u001b[0;34m.\u001b[0m\u001b[0merror_handler\u001b[0m\u001b[0;34m.\u001b[0m\u001b[0mcheck_response\u001b[0m\u001b[0;34m(\u001b[0m\u001b[0mresponse\u001b[0m\u001b[0;34m)\u001b[0m\u001b[0;34m\u001b[0m\u001b[0;34m\u001b[0m\u001b[0m\n\u001b[0m\u001b[1;32m    441\u001b[0m             \u001b[0mresponse\u001b[0m\u001b[0;34m[\u001b[0m\u001b[0;34m\"value\"\u001b[0m\u001b[0;34m]\u001b[0m \u001b[0;34m=\u001b[0m \u001b[0mself\u001b[0m\u001b[0;34m.\u001b[0m\u001b[0m_unwrap_value\u001b[0m\u001b[0;34m(\u001b[0m\u001b[0mresponse\u001b[0m\u001b[0;34m.\u001b[0m\u001b[0mget\u001b[0m\u001b[0;34m(\u001b[0m\u001b[0;34m\"value\"\u001b[0m\u001b[0;34m,\u001b[0m \u001b[0;32mNone\u001b[0m\u001b[0;34m)\u001b[0m\u001b[0;34m)\u001b[0m\u001b[0;34m\u001b[0m\u001b[0;34m\u001b[0m\u001b[0m\n\u001b[1;32m    442\u001b[0m             \u001b[0;32mreturn\u001b[0m \u001b[0mresponse\u001b[0m\u001b[0;34m\u001b[0m\u001b[0;34m\u001b[0m\u001b[0m\n",
            "\u001b[0;32m/usr/local/lib/python3.9/dist-packages/selenium/webdriver/remote/errorhandler.py\u001b[0m in \u001b[0;36mcheck_response\u001b[0;34m(self, response)\u001b[0m\n\u001b[1;32m    243\u001b[0m                 \u001b[0malert_text\u001b[0m \u001b[0;34m=\u001b[0m \u001b[0mvalue\u001b[0m\u001b[0;34m[\u001b[0m\u001b[0;34m\"alert\"\u001b[0m\u001b[0;34m]\u001b[0m\u001b[0;34m.\u001b[0m\u001b[0mget\u001b[0m\u001b[0;34m(\u001b[0m\u001b[0;34m\"text\"\u001b[0m\u001b[0;34m)\u001b[0m\u001b[0;34m\u001b[0m\u001b[0;34m\u001b[0m\u001b[0m\n\u001b[1;32m    244\u001b[0m             \u001b[0;32mraise\u001b[0m \u001b[0mexception_class\u001b[0m\u001b[0;34m(\u001b[0m\u001b[0mmessage\u001b[0m\u001b[0;34m,\u001b[0m \u001b[0mscreen\u001b[0m\u001b[0;34m,\u001b[0m \u001b[0mstacktrace\u001b[0m\u001b[0;34m,\u001b[0m \u001b[0malert_text\u001b[0m\u001b[0;34m)\u001b[0m  \u001b[0;31m# type: ignore[call-arg]  # mypy is not smart enough here\u001b[0m\u001b[0;34m\u001b[0m\u001b[0;34m\u001b[0m\u001b[0m\n\u001b[0;32m--> 245\u001b[0;31m         \u001b[0;32mraise\u001b[0m \u001b[0mexception_class\u001b[0m\u001b[0;34m(\u001b[0m\u001b[0mmessage\u001b[0m\u001b[0;34m,\u001b[0m \u001b[0mscreen\u001b[0m\u001b[0;34m,\u001b[0m \u001b[0mstacktrace\u001b[0m\u001b[0;34m)\u001b[0m\u001b[0;34m\u001b[0m\u001b[0;34m\u001b[0m\u001b[0m\n\u001b[0m",
            "\u001b[0;31mWebDriverException\u001b[0m: Message: unknown error: cannot find Chrome binary\nStacktrace:\n#0 0x5577e05fefe3 <unknown>\n#1 0x5577e033dd36 <unknown>\n#2 0x5577e0364f4a <unknown>\n#3 0x5577e0362a9b <unknown>\n#4 0x5577e03a4af7 <unknown>\n#5 0x5577e03a411f <unknown>\n#6 0x5577e039b693 <unknown>\n#7 0x5577e036e03a <unknown>\n#8 0x5577e036f17e <unknown>\n#9 0x5577e05c0dbd <unknown>\n#10 0x5577e05c4c6c <unknown>\n#11 0x5577e05ce4b0 <unknown>\n#12 0x5577e05c5d63 <unknown>\n#13 0x5577e0598c35 <unknown>\n#14 0x5577e05e9138 <unknown>\n#15 0x5577e05e92c7 <unknown>\n#16 0x5577e05f7093 <unknown>\n#17 0x7f4974d96609 start_thread\n"
          ]
        }
      ]
    },
    {
      "cell_type": "markdown",
      "source": [
        "Это уже не просто клоунская маска, это полноценный костюм"
      ],
      "metadata": {
        "id": "WSmHAYMdX3zP"
      }
    },
    {
      "cell_type": "code",
      "source": [
        "options = webdriver.ChromeOptions()\n",
        "options.add_argument(f\"user-agent={UserAgent().random}\")\n",
        "driver = webdriver.Chrome(executable_path = \"C:\\\\Users\\\\semyo\\\\Desktop\\\\Python Project\\\\ChromeDriver\\\\chromedriver.exe\", \n",
        "                          options=options)"
      ],
      "metadata": {
        "id": "3AgtZHE-bj5N"
      },
      "execution_count": null,
      "outputs": []
    },
    {
      "cell_type": "markdown",
      "source": [
        "Таким образом мы себя ещё больше обезопасили, однако пробить защиту яндекса всё равно не получается, возможно, нам помогут печеньки (тут стоит сказать, что это отчасти действительно помогло, но впоследствии мы данный модуль не использовали, ибо смысла в этом особо не было)\n"
      ],
      "metadata": {
        "id": "WQnA8jBFblHl"
      }
    },
    {
      "cell_type": "code",
      "source": [
        "# import pickle Не использовано"
      ],
      "metadata": {
        "id": "lFU7gyGUb2GH"
      },
      "execution_count": null,
      "outputs": []
    },
    {
      "cell_type": "markdown",
      "source": [
        "Где-то здесь мы окончательно убедились, что будем использовать в данном парсере в основном силениум, также мы разделили наш парсинг на два этапа: <br>\n",
        "1. Сбор ссылок со страниц магазина <br>\n",
        "2. Обход ссылок, полученных на первом этапе\n"
      ],
      "metadata": {
        "id": "3cJnrc9CmspT"
      }
    },
    {
      "cell_type": "markdown",
      "source": [
        "<center>\n",
        "\n",
        "# Этап 1\n",
        "\n",
        "</center>"
      ],
      "metadata": {
        "id": "JJszHBbXngpE"
      }
    },
    {
      "cell_type": "markdown",
      "source": [
        "Ниже представлен итоговый список необходимых библиотек:"
      ],
      "metadata": {
        "id": "F2L25HbMnmYz"
      }
    },
    {
      "cell_type": "code",
      "source": [
        "from selenium import webdriver\n",
        "from selenium.webdriver.chrome.service import Service\n",
        "from selenium.webdriver.common.by import By\n",
        "import time\n",
        "from tqdm.notebook import tqdm\n",
        "import requests \n",
        "import pandas as pd\n",
        "import numpy as np\n",
        "from fake_useragent import UserAgent\n",
        "import random\n",
        "import pickle"
      ],
      "metadata": {
        "id": "mGmPFzmDv-J_"
      },
      "execution_count": null,
      "outputs": []
    },
    {
      "cell_type": "markdown",
      "source": [
        "Немного модернизируем код для запуска драйвера"
      ],
      "metadata": {
        "id": "IsOEZfVPbjl-"
      }
    },
    {
      "cell_type": "code",
      "source": [
        "options = webdriver.ChromeOptions()\n",
        "options.add_argument(f\"user-agent={UserAgent().random}\") # каждый раз новая маска\n",
        "\n",
        "s = Service(executable_path='C:\\\\Users\\\\semyo\\\\Desktop\\\\Python Project\\\\ChromeDriver\\\\chromedriver.exe')\n",
        "\n",
        "driver = webdriver.Chrome(service=s,\n",
        "                          options=options)\n",
        "driver.maximize_window() # сделано для удобства"
      ],
      "metadata": {
        "id": "3dCyW1pbdg1h"
      },
      "execution_count": null,
      "outputs": []
    },
    {
      "cell_type": "markdown",
      "source": [
        "Перед парсингом обязательно необходимо пройти капчу, поскольку ЯндексМаркет достаточно умён, чтобы опознать бота без истории и печенек, который косит под человека <br> \n",
        "Благо силениум позволяет сделать это вручную, также благодаря драйверу мы ещё не раз распознаем ошибки, которые всплывут у нас при обходе страниц"
      ],
      "metadata": {
        "id": "sRJjShvAogWq"
      }
    },
    {
      "cell_type": "code",
      "source": [
        "url=\"https://market.yandex.ru/catalog--videokarty/55314/list?hid=91031&allowCollapsing=1&local-offers-first=0&page=15\"\n",
        "driver.get(url) # обычно яндекс выдаёт капчу либо сразу, либо при перезагрузке страницы "
      ],
      "metadata": {
        "id": "xBIzLdmjogw6"
      },
      "execution_count": null,
      "outputs": []
    },
    {
      "cell_type": "markdown",
      "source": [
        "Для проекта нам понадобится около 1000 наблюдений, с учётом возможных ошибок стоит взять хотя бы 1200, на каждой странице магазина 48 ссылок на товары (которые записаны в HTML коде), следовательно, нам необходимо пройти 25 страниц. Для этого создадим список"
      ],
      "metadata": {
        "id": "5dKqrntDo-cC"
      }
    },
    {
      "cell_type": "code",
      "source": [
        "pages = []\n",
        "pages = list(range(1, 26))"
      ],
      "metadata": {
        "id": "R79OsG2So-z0"
      },
      "execution_count": null,
      "outputs": []
    },
    {
      "cell_type": "markdown",
      "source": [
        "Ниже представлен код нашего парсера на первом этапе:"
      ],
      "metadata": {
        "id": "52cYbGi4q5ca"
      }
    },
    {
      "cell_type": "code",
      "source": [
        "for page in tqdm(pages):\n",
        "    url=f\"https://market.yandex.ru/catalog--videokarty/55314/list?hid=91031&allowCollapsing=1&local-offers-first=0&page={page}\"\n",
        "    driver.get(url)\n",
        "    time.sleep(5)\n",
        "    \n",
        "    driver.execute_script(\"window.scrollBy(0,document.body.scrollHeight)\") # прокручивает страницу вниз для подгрузки всех 48 наблюдений (изначально их 8), было подсмотренно на канале PythonToday\n",
        "    time.sleep(5)\n",
        "\n",
        "    prob_url = driver.find_elements(By.CLASS_NAME, '_24Q6d') # Метод By используется для обхода страницы и поиска информации по различным атрибутам\n",
        "    for i in tqdm(prob_url):\n",
        "        link_list.append(i.get_attribute(\"href\"))\n",
        "    time.sleep(5)"
      ],
      "metadata": {
        "id": "TSANWUgGq41y"
      },
      "execution_count": null,
      "outputs": []
    },
    {
      "cell_type": "markdown",
      "source": [
        "Если мы уже проходили капчу (также для надёжности можно войти в свой аккаунт), ЯндексМаркет нас не отвергнет, но т.к. его писали хитрые люди, данного цикла хватит лишь на 15 страниц, далее сайт скажет, что 16 страницы не существует, однако мы по-прежнему можем подгрузить их вручную \n",
        "\n",
        "\n",
        "Тут стоит сказать, что на данном этапе можно было бы автоматизировать процесс с помощью метода .click() на стрелку перехода, но при написании кода этого мы не знали,поэтому просто вручную переключали оставшиеся 10 страниц, пополняя список с помощью представленного ниже кода"
      ],
      "metadata": {
        "id": "SEFxiIfMrL6w"
      }
    },
    {
      "cell_type": "code",
      "source": [
        "driver.execute_script(\"window.scrollBy(0,document.body.scrollHeight)\")\n",
        "time.sleep(5)\n",
        "\n",
        "prob_url = driver.find_elements(By.CLASS_NAME, '_24Q6d')\n",
        "for i in tqdm(prob_url):\n",
        "    link_list.append(i.get_attribute(\"href\"))"
      ],
      "metadata": {
        "id": "3JRTf-zFq4H7"
      },
      "execution_count": null,
      "outputs": []
    },
    {
      "cell_type": "markdown",
      "source": [
        "Таким образом, благодаря драйверу мы смогли обойти хитрости ЯндексМаркета и запарсили необходимые нам ссылки, для удобства они были сохранены в файл."
      ],
      "metadata": {
        "id": "gPdxoQPF2oEL"
      }
    },
    {
      "cell_type": "code",
      "source": [
        "f = open('link_list.txt','w')  # открытие в режиме записи\n",
        "for i in tqdm(link_list): \n",
        "    f.write(i)\n",
        "    f.write('\\n')"
      ],
      "metadata": {
        "id": "GGjAhPTn3czz"
      },
      "execution_count": null,
      "outputs": []
    },
    {
      "cell_type": "markdown",
      "source": [
        "Данный файлик необходим для дальнейшего краулинга "
      ],
      "metadata": {
        "id": "NIFtKUvX70Gi"
      }
    },
    {
      "cell_type": "markdown",
      "source": [
        "<center>\n",
        "\n",
        "# Этап 2\n",
        "\n",
        "</center>"
      ],
      "metadata": {
        "id": "kNanl04hENMd"
      }
    },
    {
      "cell_type": "markdown",
      "source": [
        "На данном этапе мы запарсим данные со страниц по полученным на предыдущем шаге ссылкам и сформируем сырой датафрейм."
      ],
      "metadata": {
        "id": "7g6Z2bx75Vsm"
      }
    },
    {
      "cell_type": "code",
      "source": [
        "options = webdriver.ChromeOptions()\n",
        "options.add_argument(f\"user-agent={UserAgent().random}\")\n",
        "\n",
        "s = Service(executable_path='C:\\\\Users\\\\semyo\\\\Desktop\\\\Python Project\\\\ChromeDriver\\\\chromedriver.exe')\n",
        "\n",
        "driver = webdriver.Chrome(service=s,\n",
        "                          options=options)\n",
        "driver.maximize_window()"
      ],
      "metadata": {
        "id": "RvhzBNH85WHp"
      },
      "execution_count": null,
      "outputs": []
    },
    {
      "cell_type": "code",
      "source": [
        "data = [] # Будщий список с словарями, что мы преобразуем в датафрейм"
      ],
      "metadata": {
        "id": "HI4cIgRM6y2q"
      },
      "execution_count": null,
      "outputs": []
    },
    {
      "cell_type": "markdown",
      "source": [
        "Далее будет представленн код, который проходится по необходимым нам классовым атрибутам, перед обходом нужно будет вручную пройти капчу, а также войти в свой аккаунт (Этот процесс тоже можно автоматизировать, но ручками просто быстрее + не придётся ничего удалять, но это не значит, что мы не знаем, как автоматизировать этот процесс!)"
      ],
      "metadata": {
        "id": "g-87ZcaN7FT7"
      }
    },
    {
      "cell_type": "code",
      "source": [
        "x = open('link_list0.txt','r')\n",
        "link_list = x.readlines() # откроем сохранённый ранее файлик"
      ],
      "metadata": {
        "id": "NEF_3jxD_Jrz"
      },
      "execution_count": null,
      "outputs": []
    },
    {
      "cell_type": "code",
      "source": [
        "for link in tqdm(range(len(link_list))):\n",
        "    \n",
        "    driver.get(link_list[link])\n",
        "    \n",
        "    # Название и цена товаров\n",
        "\n",
        "    Name = driver.find_element(By.CLASS_NAME, '_1BWd_').text\n",
        "\n",
        "    Price = driver.find_element(By.CLASS_NAME, 'fhbmm')\n",
        "    Price = Price.text.split()\n",
        "    Clear_price = Price[0] + Price[1] # Цена товаров зашита весьма своеобразно, потому приходится прибегать к таким методам\n",
        "\n",
        "    # Словарь, который впоследствии станет единицей в нашем датафрейме\n",
        "\n",
        "    exp = {'Видеокарта': Name,\n",
        "          'Цена': Clear_price}\n",
        "\n",
        "    # Основные ТХ, что мы будем использовать для анализа\n",
        "\n",
        "    Parameter = driver.find_elements(By.CLASS_NAME, '_2trXG')\n",
        "    Value = driver.find_elements(By.CLASS_NAME, '_3M0mF')\n",
        "\n",
        "    for i in range(0, len(Value)): \n",
        "        exp = exp | {Parameter[i].text: Value[i].text}\n",
        "\n",
        "    data.append(exp)\n",
        "    \n",
        "    time.sleep(5)"
      ],
      "metadata": {
        "id": "rQI3PO1h938R"
      },
      "execution_count": null,
      "outputs": []
    },
    {
      "cell_type": "markdown",
      "source": [
        "Запустив данный код по-началу всё будет просто прекрасно, tqdm говорит, что достаточно лишь подождать пару часов, однако нам может встретиться **два типа ошибок**, которые остановят цикл, благо драйвер позволяет нам в прямом эфире их рассморесть"
      ],
      "metadata": {
        "id": "Z8lXckDi-apT"
      }
    },
    {
      "cell_type": "markdown",
      "source": [
        "Касательно первого типа ошибок - это просто **отсутствие товара в продаже**, данный курьёз по большей части произошёл из-за того, что парсинг страниц происходит спустя день после парсинга ссылок, отчего малый процент товаров успели раскупить <br>\n",
        "\n",
        "Данные ссылки мы просто пропускали и продолжали наш обход файла с учётом цельных полученных данных, определять их количество нам помогал метод len(data). Итак, чтобы данные не дублировались, мы подставляли в range текущую длину списка с учетом ошибок"
      ],
      "metadata": {
        "id": "6TkvUI6Y_ldZ"
      }
    },
    {
      "cell_type": "markdown",
      "source": [
        "Ошибки второго типа связаны со страницами, которые имеют **необычное оформление**. Возможно, это **старый дизайн:** страниц, который пока что не успели обновить, однако их даже меньше, чем ошибок первого типа, около 3-6 на 1200 наблюдений, что можно считать незначительным. \n",
        "\n",
        "P.s. ввиду их редкости, довольно сложно сделать скриншот для наглядности, потому вам придётся поверить наслово "
      ],
      "metadata": {
        "id": "zDcB7wUGBTmb"
      }
    },
    {
      "cell_type": "markdown",
      "source": [
        "Закончив обход наших ссылок, необходимо сохранить полученные данные, для удобства и проверки преобразуем их в датафрейм, а уже после перегоним в CSV формат"
      ],
      "metadata": {
        "id": "AOqS-CrtEfVx"
      }
    },
    {
      "cell_type": "code",
      "source": [
        "df = pd.DataFrame(data)\n",
        "df"
      ],
      "metadata": {
        "id": "2NVQAGpMDKda"
      },
      "execution_count": null,
      "outputs": []
    },
    {
      "cell_type": "code",
      "source": [
        "df.to_csv('GraphicsCards.csv', index=False)"
      ],
      "metadata": {
        "id": "2l-0n_IzE6CM"
      },
      "execution_count": null,
      "outputs": []
    },
    {
      "cell_type": "markdown",
      "source": [
        "На данном этапе парсинг закончен, теперь у нас есть сырой датафрейм, и можно приступать к EDA для дальнейшей работы с полученными данными\n"
      ],
      "metadata": {
        "id": "3K6nmBjlE7WZ"
      }
    },
    {
      "cell_type": "markdown",
      "source": [
        "От себя хочется добавить, что парсинг маркетплейсов - это жуткое дело, если бы можно было этого не делать, мы бы этого не делали и просто запарсили бы Ситилинк / ДНС / Регард / ComputerUniverse в крайнем случае, однако все эти сайты не обладают достаточным количеством наблюдений, которое нам ставит ТЗ, потому, пришлось не просто пнуть железную дверь, пришлось сносить её с петель, что было тяжко, но весьма познавательно! "
      ],
      "metadata": {
        "id": "c3_2GnCVFSo5"
      }
    },
    {
      "cell_type": "code",
      "source": [],
      "metadata": {
        "id": "7882QncGLe7j"
      },
      "execution_count": null,
      "outputs": []
    }
  ]
}